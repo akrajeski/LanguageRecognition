{
 "cells": [
  {
   "cell_type": "markdown",
   "metadata": {},
   "source": [
    "**This is part 2/2 for the notebooks.**\n",
    "\n",
    "This section is for the complete code that will be used in the final product. For additional information, please visit 1_data_training.ipynb"
   ]
  },
  {
   "cell_type": "code",
   "execution_count": null,
   "metadata": {},
   "outputs": [
    {
     "name": "stdout",
     "output_type": "stream",
     "text": [
      "Data from 1073 files extracted and written to CEFRRaw.csv\n"
     ]
    }
   ],
   "source": [
    "import csv\n",
    "import re\n",
    "import os\n",
    "\n",
    "# These texts in the CEFRTexts folder are supplemented with additional texts.\n",
    "def extract_metadata(text):\n",
    "    # Define patterns for each metadata field. This is altered after the original attempt.\n",
    "    patterns = {\n",
    "        \"Overall CEFR rating\": r\"Overall CEFR rating: (.+)\",\n",
    "        \"Learner text\": r\"Learner text:\\s+([\\s\\S]+?)$\"  # Match all text after \"Learner text:\"\n",
    "    }\n",
    "    \n",
    "    extracted_data = {}\n",
    "    for key, pattern in patterns.items():\n",
    "        match = re.search(pattern, text, re.MULTILINE)\n",
    "        extracted_data[key] = match.group(1).strip() if match else \"\"\n",
    "    return extracted_data\n",
    "\n",
    "def process_folder(input_folder, output_file):\n",
    "    # List all .txt files in the folder\n",
    "    files = [f for f in os.listdir(input_folder) if f.endswith('.txt')]\n",
    "    if not files:\n",
    "        print(\"No .txt files found in the specified folder.\")\n",
    "        return\n",
    "\n",
    "    # Process each file and collect data\n",
    "    all_data = []\n",
    "    for file in files:\n",
    "        file_path = os.path.join(input_folder, file)\n",
    "        with open(file_path, 'r', encoding='utf-8') as f:\n",
    "            text = f.read()\n",
    "        metadata = extract_metadata(text)\n",
    "        metadata['Filename'] = file  # Add filename for reference\n",
    "        all_data.append(metadata)\n",
    "    \n",
    "    # Write all data to a single CSV\n",
    "    with open(output_file, mode='w', newline='', encoding='utf-8') as csvfile:\n",
    "        fieldnames = list(all_data[0].keys())  # Use keys from the first entry\n",
    "        writer = csv.DictWriter(csvfile, fieldnames=fieldnames)\n",
    "        writer.writeheader()\n",
    "        writer.writerows(all_data)\n",
    "\n",
    "    print(f\"Data from {len(files)} files extracted and written to {output_file}\")\n",
    "\n",
    "def main():\n",
    "    input_folder = \"CEFRTexts\"  # Containing .txt files\n",
    "    output_file = \"CEFRRaw.csv\"     # Desired output CSV file\n",
    "\n",
    "    process_folder(input_folder, output_file)\n",
    "\n",
    "if __name__ == \"__main__\":\n",
    "    main()\n"
   ]
  }
 ],
 "metadata": {
  "kernelspec": {
   "display_name": "Python 3",
   "language": "python",
   "name": "python3"
  },
  "language_info": {
   "codemirror_mode": {
    "name": "ipython",
    "version": 3
   },
   "file_extension": ".py",
   "mimetype": "text/x-python",
   "name": "python",
   "nbconvert_exporter": "python",
   "pygments_lexer": "ipython3",
   "version": "3.11.10"
  }
 },
 "nbformat": 4,
 "nbformat_minor": 2
}
