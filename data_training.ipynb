{
 "cells": [
  {
   "cell_type": "markdown",
   "metadata": {},
   "source": [
    "This is the background work and documentation of the \"Language Recognition\" project for CS3120. This serves mainly as an explanation as well as a document for me to look back on.\n",
    "Special thanks to the following for collecting datasets used within this project.\n",
    "- https://github.com/adbar/German-NLP/blob/master/README.md\n",
    "- https://www.merlin-platform.eu/\n",
    "This project looks at words in the German language and will give an estimate on fluency."
   ]
  },
  {
   "cell_type": "markdown",
   "metadata": {},
   "source": [
    "# Part 1: Dataset Preparation.\n",
    "There are multiple datasets that will be used in this project. They are located in /TrainingData. They will each need to be extracted in order to get the appropriate information. "
   ]
  },
  {
   "cell_type": "code",
   "execution_count": 1,
   "metadata": {},
   "outputs": [
    {
     "name": "stdout",
     "output_type": "stream",
     "text": [
      "Data from 1033 files extracted and written to trainingParsed.csv\n"
     ]
    }
   ],
   "source": [
    "import csv\n",
    "import re\n",
    "import os\n",
    "\n",
    "def extract_metadata(text):\n",
    "    # Define patterns for each metadata field\n",
    "    patterns = {\n",
    "        \"Test language\": r\"Test language: (.+)\",\n",
    "        \"CEFR level of test\": r\"CEFR level of test: (.+)\",\n",
    "        \"Mother tongue\": r\"Mother tongue: (.+)\",\n",
    "        \"Overall CEFR rating\": r\"Overall CEFR rating: (.+)\",\n",
    "        \"Grammatical accuracy\": r\"Grammatical accuracy: (.+)\",\n",
    "        \"Orthography\": r\"Orthography: (.+)\",\n",
    "        \"Vocabulary range\": r\"Vocabulary range: (.+)\",\n",
    "        \"Vocabulary control\": r\"Vocabulary control: (.+)\",\n",
    "        \"Coherence/Cohesion\": r\"Coherence/Cohesion: (.+)\",\n",
    "        \"Sociolinguistic appropriateness\": r\"Sociolinguistic appropriateness: (.+)\",\n",
    "        \"Learner text\": r\"Learner text:\\s+([\\s\\S]+?)$\"  # Match all text after \"Learner text:\"\n",
    "    }\n",
    "    \n",
    "    extracted_data = {}\n",
    "    for key, pattern in patterns.items():\n",
    "        match = re.search(pattern, text, re.MULTILINE)\n",
    "        extracted_data[key] = match.group(1).strip() if match else \"\"\n",
    "    return extracted_data\n",
    "\n",
    "def process_folder(input_folder, output_file):\n",
    "    # List all .txt files in the folder\n",
    "    files = [f for f in os.listdir(input_folder) if f.endswith('.txt')]\n",
    "    if not files:\n",
    "        print(\"No .txt files found in the specified folder.\")\n",
    "        return\n",
    "\n",
    "    # Process each file and collect data\n",
    "    all_data = []\n",
    "    for file in files:\n",
    "        file_path = os.path.join(input_folder, file)\n",
    "        with open(file_path, 'r', encoding='utf-8') as f:\n",
    "            text = f.read()\n",
    "        metadata = extract_metadata(text)\n",
    "        metadata['Filename'] = file  # Add filename for reference\n",
    "        all_data.append(metadata)\n",
    "    \n",
    "    # Write all data to a single CSV\n",
    "    with open(output_file, mode='w', newline='', encoding='utf-8') as csvfile:\n",
    "        fieldnames = list(all_data[0].keys())  # Use keys from the first entry\n",
    "        writer = csv.DictWriter(csvfile, fieldnames=fieldnames)\n",
    "        writer.writeheader()\n",
    "        writer.writerows(all_data)\n",
    "\n",
    "    print(f\"Data from {len(files)} files extracted and written to {output_file}\")\n",
    "\n",
    "def main():\n",
    "    input_folder = \"TrainingData\"  # Containing .txt files\n",
    "    output_file = \"trainingParsed.csv\"     # Desired output CSV file\n",
    "\n",
    "    process_folder(input_folder, output_file)\n",
    "\n",
    "if __name__ == \"__main__\":\n",
    "    main()\n"
   ]
  }
 ],
 "metadata": {
  "language_info": {
   "name": "python"
  }
 },
 "nbformat": 4,
 "nbformat_minor": 2
}
